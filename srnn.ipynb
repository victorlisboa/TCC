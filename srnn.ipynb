{
 "cells": [
  {
   "cell_type": "markdown",
   "metadata": {},
   "source": [
    "# Importa bibliotecas"
   ]
  },
  {
   "cell_type": "code",
   "execution_count": 2,
   "metadata": {},
   "outputs": [],
   "source": [
    "import pandas as pd\n",
    "import glob\n",
    "import numpy as np\n",
    "from keras.models import Sequential\n",
    "from keras.layers import SimpleRNN, Dense\n",
    "from sklearn.preprocessing import MinMaxScaler\n",
    "import matplotlib.pyplot as plt\n",
    "from keras.layers import Dropout\n",
    "from sklearn.preprocessing import LabelEncoder\n",
    "from keras.callbacks import EarlyStopping"
   ]
  },
  {
   "cell_type": "markdown",
   "metadata": {},
   "source": [
    "# Preparando dados"
   ]
  },
  {
   "cell_type": "code",
   "execution_count": 3,
   "metadata": {},
   "outputs": [
    {
     "data": {
      "text/html": [
       "<div>\n",
       "<style scoped>\n",
       "    .dataframe tbody tr th:only-of-type {\n",
       "        vertical-align: middle;\n",
       "    }\n",
       "\n",
       "    .dataframe tbody tr th {\n",
       "        vertical-align: top;\n",
       "    }\n",
       "\n",
       "    .dataframe thead th {\n",
       "        text-align: right;\n",
       "    }\n",
       "</style>\n",
       "<table border=\"1\" class=\"dataframe\">\n",
       "  <thead>\n",
       "    <tr style=\"text-align: right;\">\n",
       "      <th></th>\n",
       "      <th>landmark_0_x</th>\n",
       "      <th>landmark_0_y</th>\n",
       "      <th>landmark_0_z</th>\n",
       "      <th>landmark_1_x</th>\n",
       "      <th>landmark_1_y</th>\n",
       "      <th>landmark_1_z</th>\n",
       "      <th>landmark_2_x</th>\n",
       "      <th>landmark_2_y</th>\n",
       "      <th>landmark_2_z</th>\n",
       "      <th>landmark_3_x</th>\n",
       "      <th>...</th>\n",
       "      <th>landmark_18_z</th>\n",
       "      <th>landmark_19_x</th>\n",
       "      <th>landmark_19_y</th>\n",
       "      <th>landmark_19_z</th>\n",
       "      <th>landmark_20_x</th>\n",
       "      <th>landmark_20_y</th>\n",
       "      <th>landmark_20_z</th>\n",
       "      <th>repetition</th>\n",
       "      <th>frame</th>\n",
       "      <th>word</th>\n",
       "    </tr>\n",
       "  </thead>\n",
       "  <tbody>\n",
       "    <tr>\n",
       "      <th>0</th>\n",
       "      <td>-0.018503</td>\n",
       "      <td>0.082473</td>\n",
       "      <td>0.012359</td>\n",
       "      <td>-0.038244</td>\n",
       "      <td>0.052717</td>\n",
       "      <td>-0.003482</td>\n",
       "      <td>-0.041650</td>\n",
       "      <td>0.019357</td>\n",
       "      <td>-0.003818</td>\n",
       "      <td>-0.044734</td>\n",
       "      <td>...</td>\n",
       "      <td>-0.030975</td>\n",
       "      <td>0.015069</td>\n",
       "      <td>0.032954</td>\n",
       "      <td>-0.044006</td>\n",
       "      <td>0.005922</td>\n",
       "      <td>0.042659</td>\n",
       "      <td>-0.027308</td>\n",
       "      <td>0</td>\n",
       "      <td>0.0</td>\n",
       "      <td>amanda</td>\n",
       "    </tr>\n",
       "    <tr>\n",
       "      <th>1</th>\n",
       "      <td>-0.019564</td>\n",
       "      <td>0.082302</td>\n",
       "      <td>-0.005283</td>\n",
       "      <td>-0.038287</td>\n",
       "      <td>0.049727</td>\n",
       "      <td>-0.015436</td>\n",
       "      <td>-0.043065</td>\n",
       "      <td>0.016212</td>\n",
       "      <td>-0.010967</td>\n",
       "      <td>-0.043814</td>\n",
       "      <td>...</td>\n",
       "      <td>-0.033387</td>\n",
       "      <td>0.015812</td>\n",
       "      <td>0.032467</td>\n",
       "      <td>-0.046086</td>\n",
       "      <td>0.006886</td>\n",
       "      <td>0.043515</td>\n",
       "      <td>-0.030460</td>\n",
       "      <td>0</td>\n",
       "      <td>1.0</td>\n",
       "      <td>amanda</td>\n",
       "    </tr>\n",
       "    <tr>\n",
       "      <th>2</th>\n",
       "      <td>-0.019889</td>\n",
       "      <td>0.083195</td>\n",
       "      <td>0.001091</td>\n",
       "      <td>-0.038524</td>\n",
       "      <td>0.050895</td>\n",
       "      <td>-0.010739</td>\n",
       "      <td>-0.043251</td>\n",
       "      <td>0.017482</td>\n",
       "      <td>-0.007753</td>\n",
       "      <td>-0.044321</td>\n",
       "      <td>...</td>\n",
       "      <td>-0.034229</td>\n",
       "      <td>0.014959</td>\n",
       "      <td>0.033327</td>\n",
       "      <td>-0.046357</td>\n",
       "      <td>0.005194</td>\n",
       "      <td>0.043947</td>\n",
       "      <td>-0.030197</td>\n",
       "      <td>0</td>\n",
       "      <td>2.0</td>\n",
       "      <td>amanda</td>\n",
       "    </tr>\n",
       "    <tr>\n",
       "      <th>3</th>\n",
       "      <td>-0.019555</td>\n",
       "      <td>0.083148</td>\n",
       "      <td>-0.000637</td>\n",
       "      <td>-0.038343</td>\n",
       "      <td>0.050427</td>\n",
       "      <td>-0.011885</td>\n",
       "      <td>-0.043177</td>\n",
       "      <td>0.017241</td>\n",
       "      <td>-0.008733</td>\n",
       "      <td>-0.044665</td>\n",
       "      <td>...</td>\n",
       "      <td>-0.034493</td>\n",
       "      <td>0.014198</td>\n",
       "      <td>0.033871</td>\n",
       "      <td>-0.046757</td>\n",
       "      <td>0.004756</td>\n",
       "      <td>0.044371</td>\n",
       "      <td>-0.030852</td>\n",
       "      <td>0</td>\n",
       "      <td>3.0</td>\n",
       "      <td>amanda</td>\n",
       "    </tr>\n",
       "    <tr>\n",
       "      <th>4</th>\n",
       "      <td>-0.019964</td>\n",
       "      <td>0.082738</td>\n",
       "      <td>-0.000807</td>\n",
       "      <td>-0.038683</td>\n",
       "      <td>0.050372</td>\n",
       "      <td>-0.012193</td>\n",
       "      <td>-0.043376</td>\n",
       "      <td>0.016974</td>\n",
       "      <td>-0.008550</td>\n",
       "      <td>-0.044471</td>\n",
       "      <td>...</td>\n",
       "      <td>-0.034294</td>\n",
       "      <td>0.014338</td>\n",
       "      <td>0.033735</td>\n",
       "      <td>-0.046465</td>\n",
       "      <td>0.005141</td>\n",
       "      <td>0.044447</td>\n",
       "      <td>-0.030369</td>\n",
       "      <td>0</td>\n",
       "      <td>4.0</td>\n",
       "      <td>amanda</td>\n",
       "    </tr>\n",
       "    <tr>\n",
       "      <th>...</th>\n",
       "      <td>...</td>\n",
       "      <td>...</td>\n",
       "      <td>...</td>\n",
       "      <td>...</td>\n",
       "      <td>...</td>\n",
       "      <td>...</td>\n",
       "      <td>...</td>\n",
       "      <td>...</td>\n",
       "      <td>...</td>\n",
       "      <td>...</td>\n",
       "      <td>...</td>\n",
       "      <td>...</td>\n",
       "      <td>...</td>\n",
       "      <td>...</td>\n",
       "      <td>...</td>\n",
       "      <td>...</td>\n",
       "      <td>...</td>\n",
       "      <td>...</td>\n",
       "      <td>...</td>\n",
       "      <td>...</td>\n",
       "      <td>...</td>\n",
       "    </tr>\n",
       "    <tr>\n",
       "      <th>51483</th>\n",
       "      <td>0.011349</td>\n",
       "      <td>0.065341</td>\n",
       "      <td>0.084823</td>\n",
       "      <td>-0.017376</td>\n",
       "      <td>0.053545</td>\n",
       "      <td>0.053894</td>\n",
       "      <td>-0.034640</td>\n",
       "      <td>0.045996</td>\n",
       "      <td>0.030738</td>\n",
       "      <td>-0.047148</td>\n",
       "      <td>...</td>\n",
       "      <td>-0.012896</td>\n",
       "      <td>0.027197</td>\n",
       "      <td>0.014968</td>\n",
       "      <td>-0.030934</td>\n",
       "      <td>0.018641</td>\n",
       "      <td>0.030711</td>\n",
       "      <td>-0.026710</td>\n",
       "      <td>9</td>\n",
       "      <td>258.0</td>\n",
       "      <td>zimbabwe</td>\n",
       "    </tr>\n",
       "    <tr>\n",
       "      <th>51484</th>\n",
       "      <td>0.004704</td>\n",
       "      <td>0.061226</td>\n",
       "      <td>0.090362</td>\n",
       "      <td>-0.020427</td>\n",
       "      <td>0.045916</td>\n",
       "      <td>0.054718</td>\n",
       "      <td>-0.036104</td>\n",
       "      <td>0.040064</td>\n",
       "      <td>0.034361</td>\n",
       "      <td>-0.047177</td>\n",
       "      <td>...</td>\n",
       "      <td>-0.015206</td>\n",
       "      <td>0.026347</td>\n",
       "      <td>0.020924</td>\n",
       "      <td>-0.028964</td>\n",
       "      <td>0.017746</td>\n",
       "      <td>0.035613</td>\n",
       "      <td>-0.025709</td>\n",
       "      <td>9</td>\n",
       "      <td>259.0</td>\n",
       "      <td>zimbabwe</td>\n",
       "    </tr>\n",
       "    <tr>\n",
       "      <th>51485</th>\n",
       "      <td>-0.003746</td>\n",
       "      <td>0.038335</td>\n",
       "      <td>0.092386</td>\n",
       "      <td>-0.025580</td>\n",
       "      <td>0.028700</td>\n",
       "      <td>0.057522</td>\n",
       "      <td>-0.034597</td>\n",
       "      <td>0.024798</td>\n",
       "      <td>0.029624</td>\n",
       "      <td>-0.040686</td>\n",
       "      <td>...</td>\n",
       "      <td>-0.009480</td>\n",
       "      <td>0.021108</td>\n",
       "      <td>0.042231</td>\n",
       "      <td>-0.022495</td>\n",
       "      <td>0.009461</td>\n",
       "      <td>0.053696</td>\n",
       "      <td>-0.016306</td>\n",
       "      <td>9</td>\n",
       "      <td>260.0</td>\n",
       "      <td>zimbabwe</td>\n",
       "    </tr>\n",
       "    <tr>\n",
       "      <th>51486</th>\n",
       "      <td>0.007986</td>\n",
       "      <td>-0.005878</td>\n",
       "      <td>0.073981</td>\n",
       "      <td>-0.015805</td>\n",
       "      <td>0.001531</td>\n",
       "      <td>0.051905</td>\n",
       "      <td>-0.028627</td>\n",
       "      <td>0.006874</td>\n",
       "      <td>0.038161</td>\n",
       "      <td>-0.037699</td>\n",
       "      <td>...</td>\n",
       "      <td>-0.002449</td>\n",
       "      <td>0.035488</td>\n",
       "      <td>0.015574</td>\n",
       "      <td>-0.010621</td>\n",
       "      <td>0.026830</td>\n",
       "      <td>0.033906</td>\n",
       "      <td>-0.004313</td>\n",
       "      <td>9</td>\n",
       "      <td>261.0</td>\n",
       "      <td>zimbabwe</td>\n",
       "    </tr>\n",
       "    <tr>\n",
       "      <th>51487</th>\n",
       "      <td>0.025589</td>\n",
       "      <td>0.012661</td>\n",
       "      <td>0.074685</td>\n",
       "      <td>0.002696</td>\n",
       "      <td>0.013598</td>\n",
       "      <td>0.059429</td>\n",
       "      <td>-0.020632</td>\n",
       "      <td>0.015639</td>\n",
       "      <td>0.045847</td>\n",
       "      <td>-0.030035</td>\n",
       "      <td>...</td>\n",
       "      <td>-0.004654</td>\n",
       "      <td>0.009170</td>\n",
       "      <td>0.031910</td>\n",
       "      <td>0.001735</td>\n",
       "      <td>-0.007289</td>\n",
       "      <td>0.050143</td>\n",
       "      <td>0.018997</td>\n",
       "      <td>9</td>\n",
       "      <td>262.0</td>\n",
       "      <td>zimbabwe</td>\n",
       "    </tr>\n",
       "  </tbody>\n",
       "</table>\n",
       "<p>51488 rows × 66 columns</p>\n",
       "</div>"
      ],
      "text/plain": [
       "       landmark_0_x  landmark_0_y  landmark_0_z  landmark_1_x  landmark_1_y  \\\n",
       "0         -0.018503      0.082473      0.012359     -0.038244      0.052717   \n",
       "1         -0.019564      0.082302     -0.005283     -0.038287      0.049727   \n",
       "2         -0.019889      0.083195      0.001091     -0.038524      0.050895   \n",
       "3         -0.019555      0.083148     -0.000637     -0.038343      0.050427   \n",
       "4         -0.019964      0.082738     -0.000807     -0.038683      0.050372   \n",
       "...             ...           ...           ...           ...           ...   \n",
       "51483      0.011349      0.065341      0.084823     -0.017376      0.053545   \n",
       "51484      0.004704      0.061226      0.090362     -0.020427      0.045916   \n",
       "51485     -0.003746      0.038335      0.092386     -0.025580      0.028700   \n",
       "51486      0.007986     -0.005878      0.073981     -0.015805      0.001531   \n",
       "51487      0.025589      0.012661      0.074685      0.002696      0.013598   \n",
       "\n",
       "       landmark_1_z  landmark_2_x  landmark_2_y  landmark_2_z  landmark_3_x  \\\n",
       "0         -0.003482     -0.041650      0.019357     -0.003818     -0.044734   \n",
       "1         -0.015436     -0.043065      0.016212     -0.010967     -0.043814   \n",
       "2         -0.010739     -0.043251      0.017482     -0.007753     -0.044321   \n",
       "3         -0.011885     -0.043177      0.017241     -0.008733     -0.044665   \n",
       "4         -0.012193     -0.043376      0.016974     -0.008550     -0.044471   \n",
       "...             ...           ...           ...           ...           ...   \n",
       "51483      0.053894     -0.034640      0.045996      0.030738     -0.047148   \n",
       "51484      0.054718     -0.036104      0.040064      0.034361     -0.047177   \n",
       "51485      0.057522     -0.034597      0.024798      0.029624     -0.040686   \n",
       "51486      0.051905     -0.028627      0.006874      0.038161     -0.037699   \n",
       "51487      0.059429     -0.020632      0.015639      0.045847     -0.030035   \n",
       "\n",
       "       ...  landmark_18_z  landmark_19_x  landmark_19_y  landmark_19_z  \\\n",
       "0      ...      -0.030975       0.015069       0.032954      -0.044006   \n",
       "1      ...      -0.033387       0.015812       0.032467      -0.046086   \n",
       "2      ...      -0.034229       0.014959       0.033327      -0.046357   \n",
       "3      ...      -0.034493       0.014198       0.033871      -0.046757   \n",
       "4      ...      -0.034294       0.014338       0.033735      -0.046465   \n",
       "...    ...            ...            ...            ...            ...   \n",
       "51483  ...      -0.012896       0.027197       0.014968      -0.030934   \n",
       "51484  ...      -0.015206       0.026347       0.020924      -0.028964   \n",
       "51485  ...      -0.009480       0.021108       0.042231      -0.022495   \n",
       "51486  ...      -0.002449       0.035488       0.015574      -0.010621   \n",
       "51487  ...      -0.004654       0.009170       0.031910       0.001735   \n",
       "\n",
       "       landmark_20_x  landmark_20_y  landmark_20_z  repetition  frame  \\\n",
       "0           0.005922       0.042659      -0.027308           0    0.0   \n",
       "1           0.006886       0.043515      -0.030460           0    1.0   \n",
       "2           0.005194       0.043947      -0.030197           0    2.0   \n",
       "3           0.004756       0.044371      -0.030852           0    3.0   \n",
       "4           0.005141       0.044447      -0.030369           0    4.0   \n",
       "...              ...            ...            ...         ...    ...   \n",
       "51483       0.018641       0.030711      -0.026710           9  258.0   \n",
       "51484       0.017746       0.035613      -0.025709           9  259.0   \n",
       "51485       0.009461       0.053696      -0.016306           9  260.0   \n",
       "51486       0.026830       0.033906      -0.004313           9  261.0   \n",
       "51487      -0.007289       0.050143       0.018997           9  262.0   \n",
       "\n",
       "           word  \n",
       "0        amanda  \n",
       "1        amanda  \n",
       "2        amanda  \n",
       "3        amanda  \n",
       "4        amanda  \n",
       "...         ...  \n",
       "51483  zimbabwe  \n",
       "51484  zimbabwe  \n",
       "51485  zimbabwe  \n",
       "51486  zimbabwe  \n",
       "51487  zimbabwe  \n",
       "\n",
       "[51488 rows x 66 columns]"
      ]
     },
     "execution_count": 3,
     "metadata": {},
     "output_type": "execute_result"
    }
   ],
   "source": [
    "csv_files = glob.glob('/mnt/d/dados_surdos/CSVs/dados_pessoa1_*.csv')\n",
    "\n",
    "dfs = []\n",
    "for csv_file in csv_files:\n",
    "    df = pd.read_csv(csv_file)\n",
    "    dfs.append(df)\n",
    "\n",
    "df = pd.concat(dfs, ignore_index=True)\n",
    "df"
   ]
  },
  {
   "cell_type": "code",
   "execution_count": 4,
   "metadata": {},
   "outputs": [
    {
     "name": "stdout",
     "output_type": "stream",
     "text": [
      "X.shape = (51488, 63)\n",
      "y.shape = (51488,)\n"
     ]
    }
   ],
   "source": [
    "# Separa features e label\n",
    "landmark_cols = list(df.columns[:-3])\n",
    "X = df[landmark_cols].values\n",
    "y = df['word'].values\n",
    "\n",
    "print(f'X.shape = {X.shape}')\n",
    "print(f'y.shape = {y.shape}')\n"
   ]
  },
  {
   "cell_type": "code",
   "execution_count": 5,
   "metadata": {},
   "outputs": [
    {
     "data": {
      "text/plain": [
       "array([ 0,  0,  0, ..., 25, 25, 25])"
      ]
     },
     "execution_count": 5,
     "metadata": {},
     "output_type": "execute_result"
    }
   ],
   "source": [
    "# Encode das labels\n",
    "label_encoder = LabelEncoder()\n",
    "y_encoded = label_encoder.fit_transform(y)\n",
    "y_encoded"
   ]
  },
  {
   "cell_type": "code",
   "execution_count": 6,
   "metadata": {},
   "outputs": [
    {
     "data": {
      "text/plain": [
       "array([[0.3712917 , 0.90277504, 0.31179218, ..., 0.47981744, 0.7927032 ,\n",
       "        0.35535334],\n",
       "       [0.36459633, 0.90182901, 0.1952068 , ..., 0.48624041, 0.79857287,\n",
       "        0.33564388],\n",
       "       [0.36254352, 0.90676713, 0.23732652, ..., 0.47496208, 0.80153944,\n",
       "        0.33728661],\n",
       "       ...,\n",
       "       [0.46443989, 0.65879304, 0.84063548, ..., 0.50341124, 0.86842762,\n",
       "        0.4241568 ],\n",
       "       [0.53849546, 0.41439133, 0.71900954, ..., 0.61920793, 0.73265164,\n",
       "        0.49915665],\n",
       "       [0.64961328, 0.51687206, 0.7236638 , ..., 0.39174057, 0.8440496 ,\n",
       "        0.64492516]])"
      ]
     },
     "execution_count": 6,
     "metadata": {},
     "output_type": "execute_result"
    }
   ],
   "source": [
    "# Normaliza features\n",
    "scaler = MinMaxScaler()\n",
    "X_scaled = scaler.fit_transform(X)\n",
    "X_scaled"
   ]
  },
  {
   "cell_type": "code",
   "execution_count": 7,
   "metadata": {},
   "outputs": [
    {
     "name": "stdout",
     "output_type": "stream",
     "text": [
      "Training data shape: (25900, 1, 63)\n",
      "Testing data shape: (13627, 1, 63)\n",
      "Validation data shape: (11961, 1, 63)\n"
     ]
    }
   ],
   "source": [
    "'''\n",
    "Separa dados em treino, teste e validação\n",
    "  - treino    -> repeticoes 0 a 4\n",
    "  - teste     -> repeticoes 5 a 7\n",
    "  - validação -> repeticoes 8 a 9\n",
    "'''\n",
    "\n",
    "train_mask = df['repetition'].isin([0, 1, 2, 3, 4])\n",
    "test_mask = df['repetition'].isin([5, 6, 7])\n",
    "val_mask = df['repetition'].isin([8, 9])\n",
    "\n",
    "X_train = X_scaled[train_mask]\n",
    "X_test = X_scaled[test_mask]\n",
    "X_val = X_scaled[val_mask]\n",
    "\n",
    "y_train = y_encoded[train_mask]\n",
    "y_test = y_encoded[test_mask]\n",
    "y_val = y_encoded[val_mask]\n",
    "\n",
    "# Reshape dos dados para o input da RNN (samples, time_steps, features)\n",
    "X_train = X_train.reshape(X_train.shape[0], 1, X_train.shape[1])\n",
    "X_test = X_test.reshape(X_test.shape[0], 1, X_test.shape[1])\n",
    "X_val = X_val.reshape(X_val.shape[0], 1, X_val.shape[1])\n",
    "\n",
    "print(f\"Training data shape: {X_train.shape}\")\n",
    "print(f\"Testing data shape: {X_test.shape}\")\n",
    "print(f\"Validation data shape: {X_val.shape}\")"
   ]
  },
  {
   "cell_type": "markdown",
   "metadata": {},
   "source": [
    "# Criando o modelo"
   ]
  },
  {
   "cell_type": "code",
   "execution_count": 8,
   "metadata": {},
   "outputs": [],
   "source": [
    "num_classes = 26 # palavras/labels\n",
    "input_shape = (1, X_train.shape[2])  # (time_steps, features)"
   ]
  },
  {
   "cell_type": "code",
   "execution_count": 9,
   "metadata": {},
   "outputs": [
    {
     "name": "stderr",
     "output_type": "stream",
     "text": [
      "2025-06-03 15:57:57.537048: E external/local_xla/xla/stream_executor/cuda/cuda_platform.cc:51] failed call to cuInit: INTERNAL: CUDA error: Failed call to cuInit: UNKNOWN ERROR (303)\n",
      "/home/victor/.local/lib/python3.10/site-packages/keras/src/layers/rnn/rnn.py:199: UserWarning: Do not pass an `input_shape`/`input_dim` argument to a layer. When using Sequential models, prefer using an `Input(shape)` object as the first layer in the model instead.\n",
      "  super().__init__(**kwargs)\n"
     ]
    },
    {
     "data": {
      "text/html": [
       "<pre style=\"white-space:pre;overflow-x:auto;line-height:normal;font-family:Menlo,'DejaVu Sans Mono',consolas,'Courier New',monospace\"><span style=\"font-weight: bold\">Model: \"sequential\"</span>\n",
       "</pre>\n"
      ],
      "text/plain": [
       "\u001b[1mModel: \"sequential\"\u001b[0m\n"
      ]
     },
     "metadata": {},
     "output_type": "display_data"
    },
    {
     "data": {
      "text/html": [
       "<pre style=\"white-space:pre;overflow-x:auto;line-height:normal;font-family:Menlo,'DejaVu Sans Mono',consolas,'Courier New',monospace\">┏━━━━━━━━━━━━━━━━━━━━━━━━━━━━━━━━━┳━━━━━━━━━━━━━━━━━━━━━━━━┳━━━━━━━━━━━━━━━┓\n",
       "┃<span style=\"font-weight: bold\"> Layer (type)                    </span>┃<span style=\"font-weight: bold\"> Output Shape           </span>┃<span style=\"font-weight: bold\">       Param # </span>┃\n",
       "┡━━━━━━━━━━━━━━━━━━━━━━━━━━━━━━━━━╇━━━━━━━━━━━━━━━━━━━━━━━━╇━━━━━━━━━━━━━━━┩\n",
       "│ simple_rnn (<span style=\"color: #0087ff; text-decoration-color: #0087ff\">SimpleRNN</span>)          │ (<span style=\"color: #00d7ff; text-decoration-color: #00d7ff\">None</span>, <span style=\"color: #00af00; text-decoration-color: #00af00\">1</span>, <span style=\"color: #00af00; text-decoration-color: #00af00\">500</span>)         │       <span style=\"color: #00af00; text-decoration-color: #00af00\">282,000</span> │\n",
       "├─────────────────────────────────┼────────────────────────┼───────────────┤\n",
       "│ dropout (<span style=\"color: #0087ff; text-decoration-color: #0087ff\">Dropout</span>)               │ (<span style=\"color: #00d7ff; text-decoration-color: #00d7ff\">None</span>, <span style=\"color: #00af00; text-decoration-color: #00af00\">1</span>, <span style=\"color: #00af00; text-decoration-color: #00af00\">500</span>)         │             <span style=\"color: #00af00; text-decoration-color: #00af00\">0</span> │\n",
       "├─────────────────────────────────┼────────────────────────┼───────────────┤\n",
       "│ simple_rnn_1 (<span style=\"color: #0087ff; text-decoration-color: #0087ff\">SimpleRNN</span>)        │ (<span style=\"color: #00d7ff; text-decoration-color: #00d7ff\">None</span>, <span style=\"color: #00af00; text-decoration-color: #00af00\">250</span>)            │       <span style=\"color: #00af00; text-decoration-color: #00af00\">187,750</span> │\n",
       "├─────────────────────────────────┼────────────────────────┼───────────────┤\n",
       "│ dropout_1 (<span style=\"color: #0087ff; text-decoration-color: #0087ff\">Dropout</span>)             │ (<span style=\"color: #00d7ff; text-decoration-color: #00d7ff\">None</span>, <span style=\"color: #00af00; text-decoration-color: #00af00\">250</span>)            │             <span style=\"color: #00af00; text-decoration-color: #00af00\">0</span> │\n",
       "├─────────────────────────────────┼────────────────────────┼───────────────┤\n",
       "│ dense (<span style=\"color: #0087ff; text-decoration-color: #0087ff\">Dense</span>)                   │ (<span style=\"color: #00d7ff; text-decoration-color: #00d7ff\">None</span>, <span style=\"color: #00af00; text-decoration-color: #00af00\">125</span>)            │        <span style=\"color: #00af00; text-decoration-color: #00af00\">31,375</span> │\n",
       "├─────────────────────────────────┼────────────────────────┼───────────────┤\n",
       "│ dense_1 (<span style=\"color: #0087ff; text-decoration-color: #0087ff\">Dense</span>)                 │ (<span style=\"color: #00d7ff; text-decoration-color: #00d7ff\">None</span>, <span style=\"color: #00af00; text-decoration-color: #00af00\">26</span>)             │         <span style=\"color: #00af00; text-decoration-color: #00af00\">3,276</span> │\n",
       "└─────────────────────────────────┴────────────────────────┴───────────────┘\n",
       "</pre>\n"
      ],
      "text/plain": [
       "┏━━━━━━━━━━━━━━━━━━━━━━━━━━━━━━━━━┳━━━━━━━━━━━━━━━━━━━━━━━━┳━━━━━━━━━━━━━━━┓\n",
       "┃\u001b[1m \u001b[0m\u001b[1mLayer (type)                   \u001b[0m\u001b[1m \u001b[0m┃\u001b[1m \u001b[0m\u001b[1mOutput Shape          \u001b[0m\u001b[1m \u001b[0m┃\u001b[1m \u001b[0m\u001b[1m      Param #\u001b[0m\u001b[1m \u001b[0m┃\n",
       "┡━━━━━━━━━━━━━━━━━━━━━━━━━━━━━━━━━╇━━━━━━━━━━━━━━━━━━━━━━━━╇━━━━━━━━━━━━━━━┩\n",
       "│ simple_rnn (\u001b[38;5;33mSimpleRNN\u001b[0m)          │ (\u001b[38;5;45mNone\u001b[0m, \u001b[38;5;34m1\u001b[0m, \u001b[38;5;34m500\u001b[0m)         │       \u001b[38;5;34m282,000\u001b[0m │\n",
       "├─────────────────────────────────┼────────────────────────┼───────────────┤\n",
       "│ dropout (\u001b[38;5;33mDropout\u001b[0m)               │ (\u001b[38;5;45mNone\u001b[0m, \u001b[38;5;34m1\u001b[0m, \u001b[38;5;34m500\u001b[0m)         │             \u001b[38;5;34m0\u001b[0m │\n",
       "├─────────────────────────────────┼────────────────────────┼───────────────┤\n",
       "│ simple_rnn_1 (\u001b[38;5;33mSimpleRNN\u001b[0m)        │ (\u001b[38;5;45mNone\u001b[0m, \u001b[38;5;34m250\u001b[0m)            │       \u001b[38;5;34m187,750\u001b[0m │\n",
       "├─────────────────────────────────┼────────────────────────┼───────────────┤\n",
       "│ dropout_1 (\u001b[38;5;33mDropout\u001b[0m)             │ (\u001b[38;5;45mNone\u001b[0m, \u001b[38;5;34m250\u001b[0m)            │             \u001b[38;5;34m0\u001b[0m │\n",
       "├─────────────────────────────────┼────────────────────────┼───────────────┤\n",
       "│ dense (\u001b[38;5;33mDense\u001b[0m)                   │ (\u001b[38;5;45mNone\u001b[0m, \u001b[38;5;34m125\u001b[0m)            │        \u001b[38;5;34m31,375\u001b[0m │\n",
       "├─────────────────────────────────┼────────────────────────┼───────────────┤\n",
       "│ dense_1 (\u001b[38;5;33mDense\u001b[0m)                 │ (\u001b[38;5;45mNone\u001b[0m, \u001b[38;5;34m26\u001b[0m)             │         \u001b[38;5;34m3,276\u001b[0m │\n",
       "└─────────────────────────────────┴────────────────────────┴───────────────┘\n"
      ]
     },
     "metadata": {},
     "output_type": "display_data"
    },
    {
     "data": {
      "text/html": [
       "<pre style=\"white-space:pre;overflow-x:auto;line-height:normal;font-family:Menlo,'DejaVu Sans Mono',consolas,'Courier New',monospace\"><span style=\"font-weight: bold\"> Total params: </span><span style=\"color: #00af00; text-decoration-color: #00af00\">504,401</span> (1.92 MB)\n",
       "</pre>\n"
      ],
      "text/plain": [
       "\u001b[1m Total params: \u001b[0m\u001b[38;5;34m504,401\u001b[0m (1.92 MB)\n"
      ]
     },
     "metadata": {},
     "output_type": "display_data"
    },
    {
     "data": {
      "text/html": [
       "<pre style=\"white-space:pre;overflow-x:auto;line-height:normal;font-family:Menlo,'DejaVu Sans Mono',consolas,'Courier New',monospace\"><span style=\"font-weight: bold\"> Trainable params: </span><span style=\"color: #00af00; text-decoration-color: #00af00\">504,401</span> (1.92 MB)\n",
       "</pre>\n"
      ],
      "text/plain": [
       "\u001b[1m Trainable params: \u001b[0m\u001b[38;5;34m504,401\u001b[0m (1.92 MB)\n"
      ]
     },
     "metadata": {},
     "output_type": "display_data"
    },
    {
     "data": {
      "text/html": [
       "<pre style=\"white-space:pre;overflow-x:auto;line-height:normal;font-family:Menlo,'DejaVu Sans Mono',consolas,'Courier New',monospace\"><span style=\"font-weight: bold\"> Non-trainable params: </span><span style=\"color: #00af00; text-decoration-color: #00af00\">0</span> (0.00 B)\n",
       "</pre>\n"
      ],
      "text/plain": [
       "\u001b[1m Non-trainable params: \u001b[0m\u001b[38;5;34m0\u001b[0m (0.00 B)\n"
      ]
     },
     "metadata": {},
     "output_type": "display_data"
    }
   ],
   "source": [
    "model = Sequential()\n",
    "model.add(SimpleRNN(500, input_shape=input_shape, return_sequences=True))\n",
    "model.add(Dropout(0.2))\n",
    "model.add(SimpleRNN(250))\n",
    "model.add(Dropout(0.2))\n",
    "model.add(Dense(125, activation='relu'))\n",
    "model.add(Dense(num_classes, activation='softmax'))\n",
    "\n",
    "model.compile(\n",
    "    optimizer='adam',\n",
    "    loss='sparse_categorical_crossentropy',\n",
    "    metrics=['accuracy']\n",
    ")\n",
    "model.summary()"
   ]
  },
  {
   "cell_type": "markdown",
   "metadata": {},
   "source": [
    "# Treinamento"
   ]
  },
  {
   "cell_type": "code",
   "execution_count": 10,
   "metadata": {},
   "outputs": [
    {
     "name": "stdout",
     "output_type": "stream",
     "text": [
      "Epoch 1/50\n",
      "\u001b[1m810/810\u001b[0m \u001b[32m━━━━━━━━━━━━━━━━━━━━\u001b[0m\u001b[37m\u001b[0m \u001b[1m8s\u001b[0m 7ms/step - accuracy: 0.1646 - loss: 2.8042 - val_accuracy: 0.2742 - val_loss: 2.3619\n",
      "Epoch 2/50\n",
      "\u001b[1m810/810\u001b[0m \u001b[32m━━━━━━━━━━━━━━━━━━━━\u001b[0m\u001b[37m\u001b[0m \u001b[1m5s\u001b[0m 6ms/step - accuracy: 0.4023 - loss: 1.8240 - val_accuracy: 0.3547 - val_loss: 2.1924\n",
      "Epoch 3/50\n",
      "\u001b[1m810/810\u001b[0m \u001b[32m━━━━━━━━━━━━━━━━━━━━\u001b[0m\u001b[37m\u001b[0m \u001b[1m5s\u001b[0m 6ms/step - accuracy: 0.4850 - loss: 1.5455 - val_accuracy: 0.3689 - val_loss: 2.2896\n",
      "Epoch 4/50\n",
      "\u001b[1m810/810\u001b[0m \u001b[32m━━━━━━━━━━━━━━━━━━━━\u001b[0m\u001b[37m\u001b[0m \u001b[1m5s\u001b[0m 6ms/step - accuracy: 0.5349 - loss: 1.3873 - val_accuracy: 0.4210 - val_loss: 1.9973\n",
      "Epoch 5/50\n",
      "\u001b[1m810/810\u001b[0m \u001b[32m━━━━━━━━━━━━━━━━━━━━\u001b[0m\u001b[37m\u001b[0m \u001b[1m5s\u001b[0m 6ms/step - accuracy: 0.5722 - loss: 1.2756 - val_accuracy: 0.4225 - val_loss: 2.1094\n",
      "Epoch 6/50\n",
      "\u001b[1m810/810\u001b[0m \u001b[32m━━━━━━━━━━━━━━━━━━━━\u001b[0m\u001b[37m\u001b[0m \u001b[1m6s\u001b[0m 7ms/step - accuracy: 0.6048 - loss: 1.1747 - val_accuracy: 0.4476 - val_loss: 2.0813\n",
      "Epoch 7/50\n",
      "\u001b[1m810/810\u001b[0m \u001b[32m━━━━━━━━━━━━━━━━━━━━\u001b[0m\u001b[37m\u001b[0m \u001b[1m7s\u001b[0m 8ms/step - accuracy: 0.6235 - loss: 1.1200 - val_accuracy: 0.4396 - val_loss: 2.0463\n",
      "Epoch 8/50\n",
      "\u001b[1m810/810\u001b[0m \u001b[32m━━━━━━━━━━━━━━━━━━━━\u001b[0m\u001b[37m\u001b[0m \u001b[1m7s\u001b[0m 9ms/step - accuracy: 0.6323 - loss: 1.0810 - val_accuracy: 0.4344 - val_loss: 2.1666\n",
      "Epoch 9/50\n",
      "\u001b[1m810/810\u001b[0m \u001b[32m━━━━━━━━━━━━━━━━━━━━\u001b[0m\u001b[37m\u001b[0m \u001b[1m6s\u001b[0m 7ms/step - accuracy: 0.6599 - loss: 1.0124 - val_accuracy: 0.4062 - val_loss: 2.5241\n"
     ]
    }
   ],
   "source": [
    "# Early Stopping\n",
    "callback = EarlyStopping(monitor=\"val_loss\", mode=\"min\", patience=5)\n",
    "\n",
    "history = model.fit(\n",
    "    X_train, y_train,\n",
    "    validation_data=(X_val, y_val),\n",
    "    epochs=50,\n",
    "    batch_size=32,\n",
    "    verbose=1,\n",
    "    callbacks=[callback]\n",
    ")"
   ]
  },
  {
   "cell_type": "markdown",
   "metadata": {},
   "source": [
    "# Avaliação do modelo"
   ]
  },
  {
   "cell_type": "code",
   "execution_count": 11,
   "metadata": {},
   "outputs": [
    {
     "name": "stdout",
     "output_type": "stream",
     "text": [
      "\n",
      "Test accuracy: 0.4972\n"
     ]
    }
   ],
   "source": [
    "test_loss, test_accuracy = model.evaluate(X_test, y_test, verbose=0)\n",
    "print(f\"\\nTest accuracy: {test_accuracy:.4f}\")"
   ]
  },
  {
   "cell_type": "code",
   "execution_count": 12,
   "metadata": {},
   "outputs": [
    {
     "data": {
      "image/png": "[encoded data removed]",
      "text/plain": [
       "<Figure size 1200x400 with 2 Axes>"
      ]
     },
     "metadata": {},
     "output_type": "display_data"
    }
   ],
   "source": [
    "# Plot historico de treinamento\n",
    "plt.figure(figsize=(12, 4))\n",
    "\n",
    "plt.subplot(1, 2, 1)\n",
    "plt.plot(history.history['accuracy'])\n",
    "plt.plot(history.history['val_accuracy'])\n",
    "plt.title('Model Accuracy')\n",
    "plt.ylabel('Accuracy')\n",
    "plt.xlabel('Epoch')\n",
    "plt.legend(['Train', 'Validation'], loc='upper left')\n",
    "\n",
    "plt.subplot(1, 2, 2)\n",
    "plt.plot(history.history['loss'])\n",
    "plt.plot(history.history['val_loss'])\n",
    "plt.title('Model Loss')\n",
    "plt.ylabel('Loss')\n",
    "plt.xlabel('Epoch')\n",
    "plt.legend(['Train', 'Validation'], loc='upper left')\n",
    "\n",
    "plt.tight_layout()\n",
    "plt.show()"
   ]
  }
 ],
 "metadata": {
  "kernelspec": {
   "display_name": "Python 3",
   "language": "python",
   "name": "python3"
  },
  "language_info": {
   "codemirror_mode": {
    "name": "ipython",
    "version": 3
   },
   "file_extension": ".py",
   "mimetype": "text/x-python",
   "name": "python",
   "nbconvert_exporter": "python",
   "pygments_lexer": "ipython3",
   "version": "3.10.12"
  }
 },
 "nbformat": 4,
 "nbformat_minor": 2
}
